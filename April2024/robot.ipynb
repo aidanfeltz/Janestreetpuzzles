{
 "cells": [
  {
   "cell_type": "markdown",
   "metadata": {},
   "source": [
    "# Robot Capture-the-Flag\n",
    "It’s been a while and change, but the Robot Games are back once again. This time it’s Capture the Flag!\n",
    "\n",
    "Two robots, Aaron and Erin, have made it to this year’s final! Initially they are situated at the center of a unit circle. A flag is placed somewhere inside the circle, at a location chosen uniformly at random. Once the flag is placed, Aaron is able to deduce its distance to the flag, and Erin is only able to deduce its direction to the flag. (Equivalently: if (r, θ) are the polar coordinates of the flag’s location, Aaron is told r and Erin is told θ.)\n",
    "\n",
    "Both robots are allowed to make a single move after the flag is placed, if they wish. Any move they make is without knowledge of what the other robot is doing. (And they may not move outside the circle.)\n",
    "\n",
    "Whichever robot is closer to the flag after these moves captures the flag and is declared the winner!\n",
    "\n",
    "During the preliminaries it was discovered that Erin is programmed to play a fixed distance along the detected angle θ. Assuming otherwise optimal play by both robots, can you determine the probability that Aaron will win? (Please express you answer to 10 decimal places.)"
   ]
  },
  {
   "cell_type": "markdown",
   "metadata": {},
   "source": [
    "# First thoughts\n",
    "Im thinking first to do a monte carlo sim, but I doubt it will be accurate to 10 decimal points\n",
    "\n",
    "Since Erin is programmed to move a fixed distance towards the detected angle, θ, we know this will of course be 0.5.\n",
    "\n",
    "Another observation I have made is that whenever the distance is  d < 0.25, it is optimal for Aaron to stay in at the center of the unit circle, as he will always be closer than Erin, since Erin is always going to move 0.5 units. This means that for at least 25% of the time, Joe will always win. \n",
    "\n",
    "### Now the question remains for what is optimal for Joe for when the distance is from 0.25 to 1."
   ]
  },
  {
   "cell_type": "code",
   "execution_count": null,
   "metadata": {},
   "outputs": [],
   "source": []
  }
 ],
 "metadata": {
  "language_info": {
   "name": "python"
  }
 },
 "nbformat": 4,
 "nbformat_minor": 2
}
